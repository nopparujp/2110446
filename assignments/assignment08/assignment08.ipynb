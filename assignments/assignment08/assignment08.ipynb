{
  "cells": [
    {
      "cell_type": "markdown",
      "metadata": {
        "id": "iIY9yirOaVir"
      },
      "source": [
        "# Assignment: Extracting Static WebPage\n",
        "\n",
        "Extract information about “วันพระ” for 3 years from:\n",
        "\n",
        "- https://www.myhora.com/ปฏิทิน/วันพระ-พ.ศ.2565.aspx\n",
        "- https://www.myhora.com/ปฏิทิน/วันพระ-พ.ศ.2566.aspx\n",
        "- https://www.myhora.com/ปฏิทิน/วันพระ-พ.ศ.2567.aspx\n"
      ]
    },
    {
      "cell_type": "markdown",
      "metadata": {
        "id": "4IZFWjBPaViw"
      },
      "source": [
        "Note that you can use dateparse package to parse Thai date. First, we will have to install the package, this is for Google Colab users. Otherwise, installing via command line is recommended (pip or conda).\n"
      ]
    },
    {
      "cell_type": "code",
      "execution_count": null,
      "metadata": {
        "id": "bckP7PXzaVix",
        "scrolled": true
      },
      "outputs": [],
      "source": [
        "# import sys\n",
        "# IN_COLAB = 'google.colab' in sys.modules\n",
        "# if IN_COLAB:\n",
        "#     %pip install dateparser"
      ]
    },
    {
      "cell_type": "code",
      "execution_count": 2,
      "metadata": {
        "id": "oOcU5G6VaViz"
      },
      "outputs": [],
      "source": [
        "import dateparser"
      ]
    },
    {
      "cell_type": "markdown",
      "metadata": {
        "id": "llP1ypGcaVi0"
      },
      "source": [
        "To convert from thai text date string, we will use the parse method. Note that the parse method assumes the BC year, not BE. Thus, we will have to subtract 543 from the year. In addition, weekday() returns day of week with 0=Monday, ..., 6=Sunday.\n"
      ]
    },
    {
      "cell_type": "code",
      "execution_count": 3,
      "metadata": {
        "id": "CDDaRR9DaVi0"
      },
      "outputs": [
        {
          "name": "stdout",
          "output_type": "stream",
          "text": [
            "2563-01-17 00:00:00\n",
            "0\n",
            "2020-01-17 00:00:00\n",
            "4\n"
          ]
        }
      ],
      "source": [
        "dt = dateparser.parse('วันศุกร์ที่ 17 มกราคม 2563')\n",
        "\n",
        "# this will print out weekday == 0 (Monday)\n",
        "print(dt)\n",
        "print(dt.weekday())\n",
        "\n",
        "# this will print out weekday == 4 (Friday)\n",
        "dt = dt.replace(year=dt.year-543)\n",
        "print(dt)\n",
        "print(dt.weekday())"
      ]
    },
    {
      "cell_type": "markdown",
      "metadata": {
        "id": "DHmFmaUfaVi1"
      },
      "source": [
        "Count the distribution of number of week days that are “วันพระ” for all three years and answer the following questions:\n"
      ]
    },
    {
      "cell_type": "markdown",
      "metadata": {
        "id": "SFqGubLEaVi2"
      },
      "source": [
        "## How many วันพระ in total (of 3 years)?\n"
      ]
    },
    {
      "cell_type": "code",
      "execution_count": 56,
      "metadata": {
        "id": "vNzz53ZuaVi2"
      },
      "outputs": [
        {
          "data": {
            "text/plain": [
              "152"
            ]
          },
          "execution_count": 56,
          "metadata": {},
          "output_type": "execute_result"
        }
      ],
      "source": [
        "from bs4 import BeautifulSoup\n",
        "import requests\n",
        "url = [\"https://www.myhora.com/ปฏิทิน/วันพระ-พ.ศ.2565.aspx\",\n",
        "       \"https://www.myhora.com/ปฏิทิน/วันพระ-พ.ศ.2566.aspx\",\n",
        "       \"https://www.myhora.com/ปฏิทิน/วันพระ-พ.ศ.2567.aspx\",]\n",
        "sum(dateparser.parse(j.text) != None for i in url for j in BeautifulSoup(requests.get(i).content, 'html.parser').find_all(\"div\",class_=\"bud-day-col\"))"
      ]
    },
    {
      "cell_type": "code",
      "execution_count": 90,
      "metadata": {},
      "outputs": [],
      "source": [
        "\n",
        "def bead(date): return dateparser.parse(date).replace(\n",
        "    year=dateparser.parse(date).year-543)\n",
        "\n",
        "l = [bead(j.text) for i in url for j in BeautifulSoup(requests.get(i).content, 'html.parser').find_all(\"div\", class_=\"bud-day-col\") if dateparser.parse(j.text) != None]"
      ]
    },
    {
      "cell_type": "markdown",
      "metadata": {
        "id": "NkyXMkT0aVi2"
      },
      "source": [
        "## How many days in total (of 3 years) that วันพระ is Monday?\n",
        "## ANS: 21"
      ]
    },
    {
      "cell_type": "code",
      "execution_count": 91,
      "metadata": {
        "id": "vYEVAcVsaVi2"
      },
      "outputs": [
        {
          "data": {
            "text/plain": [
              "21"
            ]
          },
          "execution_count": 91,
          "metadata": {},
          "output_type": "execute_result"
        }
      ],
      "source": [
        "sum(i.weekday() == 0 for i in l)"
      ]
    },
    {
      "cell_type": "markdown",
      "metadata": {
        "id": "whiw6-0laVi2"
      },
      "source": [
        "## Which day of the week that has the minimum number of วันพระ?\n",
        "## ANS: Tuesday"
      ]
    },
    {
      "cell_type": "code",
      "execution_count": 117,
      "metadata": {
        "id": "2i4e7CKWaVi3"
      },
      "outputs": [
        {
          "name": "stdout",
          "output_type": "stream",
          "text": [
            "Tuesday\n"
          ]
        }
      ],
      "source": [
        "from collections import Counter\n",
        "weekdays = [\"Monday\", \"Tuesday\", \"Wednesday\", \"Thursday\", \"Friday\", \"Saturday\", \"Sunday\"]\n",
        "c = Counter(d.weekday() for d in l)\n",
        "min_weekday, _ = min(c.items(), key=lambda x: x[1])\n",
        "print(weekdays[min_weekday])"
      ]
    },
    {
      "cell_type": "markdown",
      "metadata": {
        "id": "3aT0XrWiaVi3"
      },
      "source": [
        "## Which day of the week that has the maximum number of วันพระ?\n",
        "## ANS: Sunday"
      ]
    },
    {
      "cell_type": "code",
      "execution_count": 97,
      "metadata": {},
      "outputs": [
        {
          "name": "stdout",
          "output_type": "stream",
          "text": [
            "Sunday\n"
          ]
        }
      ],
      "source": [
        "max_weekday,_ = max(c.items(), key=lambda x: x[1])\n",
        "print(weekdays[max_weekday])"
      ]
    }
  ],
  "metadata": {
    "colab": {
      "provenance": []
    },
    "kernelspec": {
      "display_name": "Python 3 (ipykernel)",
      "language": "python",
      "name": "python3"
    },
    "language_info": {
      "codemirror_mode": {
        "name": "ipython",
        "version": 3
      },
      "file_extension": ".py",
      "mimetype": "text/x-python",
      "name": "python",
      "nbconvert_exporter": "python",
      "pygments_lexer": "ipython3",
      "version": "3.11.8"
    },
    "toc": {
      "base_numbering": 1,
      "nav_menu": {},
      "number_sections": true,
      "sideBar": true,
      "skip_h1_title": false,
      "title_cell": "Table of Contents",
      "title_sidebar": "Contents",
      "toc_cell": false,
      "toc_position": {},
      "toc_section_display": true,
      "toc_window_display": false
    },
    "varInspector": {
      "cols": {
        "lenName": 16,
        "lenType": 16,
        "lenVar": 40
      },
      "kernels_config": {
        "python": {
          "delete_cmd_postfix": "",
          "delete_cmd_prefix": "del ",
          "library": "var_list.py",
          "varRefreshCmd": "print(var_dic_list())"
        },
        "r": {
          "delete_cmd_postfix": ") ",
          "delete_cmd_prefix": "rm(",
          "library": "var_list.r",
          "varRefreshCmd": "cat(var_dic_list()) "
        }
      },
      "types_to_exclude": [
        "module",
        "function",
        "builtin_function_or_method",
        "instance",
        "_Feature"
      ],
      "window_display": false
    }
  },
  "nbformat": 4,
  "nbformat_minor": 0
}
