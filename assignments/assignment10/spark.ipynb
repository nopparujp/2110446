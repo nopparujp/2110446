{
  "cells": [
    {
      "cell_type": "markdown",
      "metadata": {
        "id": "xaMIhOcckUnH"
      },
      "source": [
        "# Spark Preparation\n",
        "We check if we are in Google Colab.  If this is the case, install all necessary packages.\n",
        "\n",
        "To run spark in Colab, we need to first install all the dependencies in Colab environment i.e. Apache Spark 3.3.2 with hadoop 3.3, Java 8 and Findspark to locate the spark in the system. The tools installation can be carried out inside the Jupyter Notebook of the Colab.\n",
        "Learn more from [A Must-Read Guide on How to Work with PySpark on Google Colab for Data Scientists!](https://www.analyticsvidhya.com/blog/2020/11/a-must-read-guide-on-how-to-work-with-pyspark-on-google-colab-for-data-scientists/)"
      ]
    },
    {
      "cell_type": "code",
      "execution_count": 1,
      "metadata": {
        "colab": {
          "base_uri": "https://localhost:8080/"
        },
        "id": "_xS31sSFkUnK",
        "outputId": "55b667d1-2ba2-44e9-a798-cb7b82396e65"
      },
      "outputs": [
        {
          "output_type": "stream",
          "name": "stdout",
          "text": [
            "\u001b[33m\r0% [Working]\u001b[0m\r            \rGet:1 https://cloud.r-project.org/bin/linux/ubuntu jammy-cran40/ InRelease [3,626 B]\n",
            "\u001b[33m\r0% [Waiting for headers] [Waiting for headers] [1 InRelease 0 B/3,626 B 0%] [Co\u001b[0m\u001b[33m\r0% [Waiting for headers] [Waiting for headers] [Connected to ppa.launchpadconte\u001b[0m\r                                                                               \rGet:2 http://security.ubuntu.com/ubuntu jammy-security InRelease [110 kB]\n",
            "\u001b[33m\r0% [Waiting for headers] [2 InRelease 14.2 kB/110 kB 13%] [Connected to ppa.lau\u001b[0m\r                                                                               \rHit:3 https://developer.download.nvidia.com/compute/cuda/repos/ubuntu2204/x86_64  InRelease\n",
            "Hit:4 http://archive.ubuntu.com/ubuntu jammy InRelease\n",
            "Get:5 http://archive.ubuntu.com/ubuntu jammy-updates InRelease [119 kB]\n",
            "Hit:6 https://ppa.launchpadcontent.net/c2d4u.team/c2d4u4.0+/ubuntu jammy InRelease\n",
            "Get:7 https://ppa.launchpadcontent.net/deadsnakes/ppa/ubuntu jammy InRelease [18.1 kB]\n",
            "Hit:8 http://archive.ubuntu.com/ubuntu jammy-backports InRelease\n",
            "Hit:9 https://ppa.launchpadcontent.net/graphics-drivers/ppa/ubuntu jammy InRelease\n",
            "Hit:10 https://ppa.launchpadcontent.net/ubuntugis/ppa/ubuntu jammy InRelease\n",
            "Get:11 http://security.ubuntu.com/ubuntu jammy-security/universe amd64 Packages [1,081 kB]\n",
            "Get:12 http://security.ubuntu.com/ubuntu jammy-security/main amd64 Packages [1,641 kB]\n",
            "Get:13 http://archive.ubuntu.com/ubuntu jammy-updates/universe amd64 Packages [1,357 kB]\n",
            "Get:14 https://ppa.launchpadcontent.net/deadsnakes/ppa/ubuntu jammy/main amd64 Packages [27.7 kB]\n",
            "Get:15 http://archive.ubuntu.com/ubuntu jammy-updates/multiverse amd64 Packages [61.2 kB]\n",
            "Get:16 http://archive.ubuntu.com/ubuntu jammy-updates/restricted amd64 Packages [2,107 kB]\n",
            "Get:17 http://archive.ubuntu.com/ubuntu jammy-updates/main amd64 Packages [1,920 kB]\n",
            "Fetched 8,447 kB in 3s (3,021 kB/s)\n",
            "Reading package lists... Done\n",
            "Building dependency tree... Done\n",
            "Reading state information... Done\n",
            "45 packages can be upgraded. Run 'apt list --upgradable' to see them.\n",
            "Collecting pyspark\n",
            "  Downloading pyspark-3.5.1.tar.gz (317.0 MB)\n",
            "\u001b[2K     \u001b[90m━━━━━━━━━━━━━━━━━━━━━━━━━━━━━━━━━━━━━━━━\u001b[0m \u001b[32m317.0/317.0 MB\u001b[0m \u001b[31m4.4 MB/s\u001b[0m eta \u001b[36m0:00:00\u001b[0m\n",
            "\u001b[?25h  Preparing metadata (setup.py) ... \u001b[?25l\u001b[?25hdone\n",
            "Requirement already satisfied: py4j==0.10.9.7 in /usr/local/lib/python3.10/dist-packages (from pyspark) (0.10.9.7)\n",
            "Building wheels for collected packages: pyspark\n",
            "  Building wheel for pyspark (setup.py) ... \u001b[?25l\u001b[?25hdone\n",
            "  Created wheel for pyspark: filename=pyspark-3.5.1-py2.py3-none-any.whl size=317488491 sha256=da58b65686cbac746ed0576f4bbdfec7e34a88f0e5cb600114a77b8062d90616\n",
            "  Stored in directory: /root/.cache/pip/wheels/80/1d/60/2c256ed38dddce2fdd93be545214a63e02fbd8d74fb0b7f3a6\n",
            "Successfully built pyspark\n",
            "Installing collected packages: pyspark\n",
            "Successfully installed pyspark-3.5.1\n",
            "Requirement already satisfied: py4j in /usr/local/lib/python3.10/dist-packages (0.10.9.7)\n"
          ]
        }
      ],
      "source": [
        "import os\n",
        "import sys\n",
        "try:\n",
        "  import google.colab\n",
        "  IN_COLAB = True\n",
        "except:\n",
        "  IN_COLAB = False\n",
        "\n",
        "if IN_COLAB:\n",
        "  !sudo apt update\n",
        "  !apt-get install openjdk-8-jdk-headless -qq > /dev/null\n",
        "  #Check this site for the latest download link https://www.apache.org/dyn/closer.lua/spark/spark-3.2.1/spark-3.2.1-bin-hadoop3.2.tgz\n",
        "  !wget -q https://dlcdn.apache.org/spark/spark-3.5.1/spark-3.5.1-bin-hadoop3.tgz\n",
        "  !tar xf spark-3.5.1-bin-hadoop3.tgz\n",
        "  !pip install -q findspark\n",
        "  !pip install pyspark\n",
        "  !pip install py4j\n",
        "\n",
        "  os.environ[\"JAVA_HOME\"] = \"/usr/lib/jvm/java-8-openjdk-amd64\"\n",
        "  os.environ[\"SPARK_HOME\"] = \"/content/spark-3.5.1-bin-hadoop3\""
      ]
    },
    {
      "cell_type": "markdown",
      "metadata": {
        "id": "MhjA5Rc0kUnL"
      },
      "source": [
        "# Start a Local Cluster"
      ]
    },
    {
      "cell_type": "code",
      "execution_count": 119,
      "metadata": {
        "id": "77lcd6WukUnL"
      },
      "outputs": [],
      "source": [
        "import findspark\n",
        "from pyspark.sql import SparkSession\n",
        "from pyspark.sql.functions import col\n",
        "\n",
        "findspark.init()\n",
        "spark_url = 'local'\n",
        "\n",
        "spark = SparkSession.builder\\\n",
        "        .master(spark_url)\\\n",
        "        .appName('Spark SQL')\\\n",
        "        .getOrCreate()"
      ]
    },
    {
      "cell_type": "code",
      "source": [
        "!wget -q https://github.com/pvateekul/2110446_DSDE_2023s2/raw/main/code/Week10_Spark/netflix-rotten-tomatoes-metacritic-imdb.csv"
      ],
      "metadata": {
        "id": "TrJF8WbNlBc3"
      },
      "execution_count": 3,
      "outputs": []
    },
    {
      "cell_type": "markdown",
      "metadata": {
        "id": "tjqOCClUkUnL"
      },
      "source": [
        "# Spark Assignment\n",
        "\n",
        "Based on the movie review dataset in 'netflix-rotten-tomatoes-metacritic-imdb.csv', answer the below questions.\n",
        "\n",
        "**Note:** do not clean or remove missing data"
      ]
    },
    {
      "cell_type": "code",
      "execution_count": 120,
      "metadata": {
        "id": "569Bp-88kUnL"
      },
      "outputs": [],
      "source": [
        "path = '/content/netflix-rotten-tomatoes-metacritic-imdb.csv'\n",
        "df = spark.read.option(\"delimiter\", \",\").option(\"header\", True).csv(path)"
      ]
    },
    {
      "cell_type": "code",
      "source": [
        "cols = [c.replace(' ', '_') for c in df.columns]\n",
        "df = df.toDF(*cols)"
      ],
      "metadata": {
        "id": "ENz0ANmym_g2"
      },
      "execution_count": 121,
      "outputs": []
    },
    {
      "cell_type": "code",
      "source": [
        "df.columns, df.printSchema(), df.show(3)"
      ],
      "metadata": {
        "colab": {
          "base_uri": "https://localhost:8080/"
        },
        "id": "J-4h5ReYnPY-",
        "outputId": "c0c48aaa-1528-4974-d47c-0c7e84620512"
      },
      "execution_count": 122,
      "outputs": [
        {
          "output_type": "stream",
          "name": "stdout",
          "text": [
            "root\n",
            " |-- Title: string (nullable = true)\n",
            " |-- Genre: string (nullable = true)\n",
            " |-- Tags: string (nullable = true)\n",
            " |-- Languages: string (nullable = true)\n",
            " |-- Series_or_Movie: string (nullable = true)\n",
            " |-- Hidden_Gem_Score: string (nullable = true)\n",
            " |-- Country_Availability: string (nullable = true)\n",
            " |-- Runtime: string (nullable = true)\n",
            " |-- Director: string (nullable = true)\n",
            " |-- Writer: string (nullable = true)\n",
            " |-- Actors: string (nullable = true)\n",
            " |-- View_Rating: string (nullable = true)\n",
            " |-- IMDb_Score: string (nullable = true)\n",
            " |-- Rotten_Tomatoes_Score: string (nullable = true)\n",
            " |-- Metacritic_Score: string (nullable = true)\n",
            " |-- Awards_Received: string (nullable = true)\n",
            " |-- Awards_Nominated_For: string (nullable = true)\n",
            " |-- Boxoffice: string (nullable = true)\n",
            " |-- Release_Date: string (nullable = true)\n",
            " |-- Netflix_Release_Date: string (nullable = true)\n",
            " |-- Production_House: string (nullable = true)\n",
            " |-- Netflix_Link: string (nullable = true)\n",
            " |-- IMDb_Link: string (nullable = true)\n",
            " |-- Summary: string (nullable = true)\n",
            " |-- IMDb_Votes: string (nullable = true)\n",
            " |-- Image: string (nullable = true)\n",
            " |-- Poster: string (nullable = true)\n",
            " |-- TMDb_Trailer: string (nullable = true)\n",
            " |-- Trailer_Site: string (nullable = true)\n",
            "\n",
            "+-------------------+--------------------+--------------------+----------------+---------------+----------------+--------------------+------------+---------------+--------------------+--------------------+-----------+----------+---------------------+----------------+---------------+--------------------+----------+------------+--------------------+--------------------+--------------------+--------------------+--------------------+----------+--------------------+--------------------+--------------------+------------+\n",
            "|              Title|               Genre|                Tags|       Languages|Series_or_Movie|Hidden_Gem_Score|Country_Availability|     Runtime|       Director|              Writer|              Actors|View_Rating|IMDb_Score|Rotten_Tomatoes_Score|Metacritic_Score|Awards_Received|Awards_Nominated_For| Boxoffice|Release_Date|Netflix_Release_Date|    Production_House|        Netflix_Link|           IMDb_Link|             Summary|IMDb_Votes|               Image|              Poster|        TMDb_Trailer|Trailer_Site|\n",
            "+-------------------+--------------------+--------------------+----------------+---------------+----------------+--------------------+------------+---------------+--------------------+--------------------+-----------+----------+---------------------+----------------+---------------+--------------------+----------+------------+--------------------+--------------------+--------------------+--------------------+--------------------+----------+--------------------+--------------------+--------------------+------------+\n",
            "|   Lets Fight Ghost|Crime, Drama, Fan...|Comedy Programmes...|Swedish, Spanish|         Series|             4.3|            Thailand|< 30 minutes|Tomas Alfredson|John Ajvide Lindq...|Kåre Hedebrant, P...|          R|       7.9|                 98.0|            82.0|           74.0|                57.0|$2,122,065| 12 Dec 2008|          2021-03-04|Canal+, Sandrew M...|https://www.netfl...|https://www.imdb....|A med student wit...|  205926.0|https://occ-0-470...|https://m.media-a...|                NULL|        NULL|\n",
            "|HOW TO BUILD A GIRL|              Comedy|Dramas,Comedies,F...|         English|          Movie|             7.0|              Canada|    1-2 hour|  Coky Giedroyc|       Caitlin Moran|Paddy Considine, ...|          R|       5.8|                 79.0|            69.0|            1.0|                NULL|   $70,632| 08 May 2020|          2021-03-04|Film 4, Monumenta...|https://www.netfl...|https://www.imdb....|When nerdy Johann...|    2838.0|https://occ-0-108...|https://m.media-a...|https://www.youtu...|     YouTube|\n",
            "|         Centigrade|     Drama, Thriller|           Thrillers|         English|          Movie|             6.4|              Canada|    1-2 hour|  Brendan Walsh|Brendan Walsh, Da...|Genesis Rodriguez...|    Unrated|       4.3|                 NULL|            46.0|           NULL|                NULL|   $16,263| 28 Aug 2020|          2021-03-04|                NULL|https://www.netfl...|https://www.imdb....|Trapped in a froz...|    1720.0|https://occ-0-108...|https://m.media-a...|https://www.youtu...|     YouTube|\n",
            "+-------------------+--------------------+--------------------+----------------+---------------+----------------+--------------------+------------+---------------+--------------------+--------------------+-----------+----------+---------------------+----------------+---------------+--------------------+----------+------------+--------------------+--------------------+--------------------+--------------------+--------------------+----------+--------------------+--------------------+--------------------+------------+\n",
            "only showing top 3 rows\n",
            "\n"
          ]
        },
        {
          "output_type": "execute_result",
          "data": {
            "text/plain": [
              "(['Title',\n",
              "  'Genre',\n",
              "  'Tags',\n",
              "  'Languages',\n",
              "  'Series_or_Movie',\n",
              "  'Hidden_Gem_Score',\n",
              "  'Country_Availability',\n",
              "  'Runtime',\n",
              "  'Director',\n",
              "  'Writer',\n",
              "  'Actors',\n",
              "  'View_Rating',\n",
              "  'IMDb_Score',\n",
              "  'Rotten_Tomatoes_Score',\n",
              "  'Metacritic_Score',\n",
              "  'Awards_Received',\n",
              "  'Awards_Nominated_For',\n",
              "  'Boxoffice',\n",
              "  'Release_Date',\n",
              "  'Netflix_Release_Date',\n",
              "  'Production_House',\n",
              "  'Netflix_Link',\n",
              "  'IMDb_Link',\n",
              "  'Summary',\n",
              "  'IMDb_Votes',\n",
              "  'Image',\n",
              "  'Poster',\n",
              "  'TMDb_Trailer',\n",
              "  'Trailer_Site'],\n",
              " None,\n",
              " None)"
            ]
          },
          "metadata": {},
          "execution_count": 122
        }
      ]
    },
    {
      "cell_type": "code",
      "source": [
        "df = df.withColumn('Hidden_Gem_Score',df.Hidden_Gem_Score.cast('double'))"
      ],
      "metadata": {
        "id": "d5URA1sXmI6q"
      },
      "execution_count": 123,
      "outputs": []
    },
    {
      "cell_type": "markdown",
      "metadata": {
        "id": "5GqhxCxckUnM"
      },
      "source": [
        "## What is the maximum and average of the overall hidden gem score?"
      ]
    },
    {
      "cell_type": "code",
      "execution_count": 124,
      "metadata": {
        "colab": {
          "base_uri": "https://localhost:8080/"
        },
        "id": "x3r5MEZekUnM",
        "outputId": "8beb8564-2520-4910-adad-bb3c9c99e5e5"
      },
      "outputs": [
        {
          "output_type": "stream",
          "name": "stdout",
          "text": [
            "+---------------------+---------------------+\n",
            "|avg(Hidden_Gem_score)|max(Hidden_Gem_Score)|\n",
            "+---------------------+---------------------+\n",
            "|    5.937551386501226|                  9.8|\n",
            "+---------------------+---------------------+\n",
            "\n"
          ]
        }
      ],
      "source": [
        "df.agg({'Hidden_Gem_score': 'avg', 'Hidden_Gem_Score': 'max'}).show()"
      ]
    },
    {
      "cell_type": "markdown",
      "metadata": {
        "id": "D2oaHpu2kUnM"
      },
      "source": [
        "## How many movies that are available in Korea?\n",
        "\n",
        "*   List item\n",
        "*   List item\n",
        "\n"
      ]
    },
    {
      "cell_type": "code",
      "execution_count": 183,
      "metadata": {
        "colab": {
          "base_uri": "https://localhost:8080/"
        },
        "id": "1ZVcauPdkUnM",
        "outputId": "c2bd3e9e-2924-412a-c2fc-68aeada69fa5"
      },
      "outputs": [
        {
          "output_type": "execute_result",
          "data": {
            "text/plain": [
              "735"
            ]
          },
          "metadata": {},
          "execution_count": 183
        }
      ],
      "source": [
        "from pyspark.sql.functions import lower\n",
        "df.filter(lower(col('Languages')).contains('korea')).count()"
      ]
    },
    {
      "cell_type": "code",
      "source": [
        "from pyspark.sql.functions import udf\n",
        "from pyspark.sql.types import BooleanType\n",
        "def is_available_in_korea(country):\n",
        "  return 'korea' in country.lower()\n",
        "\n",
        "is_available = udf(is_available_in_korea, BooleanType())\n",
        "\n",
        "df\\\n",
        ".filter(df['Country_Availability'].isNotNull())\\\n",
        ".select(is_available('Country_Availability'))\\\n",
        ".groupBy('is_available_in_korea(Country_Availability)')\\\n",
        ".count()\\\n",
        ".show()"
      ],
      "metadata": {
        "colab": {
          "base_uri": "https://localhost:8080/"
        },
        "id": "0U9qlgjTB9YN",
        "outputId": "f0bab1b8-e41f-4d4d-c062-a27655a65498"
      },
      "execution_count": 180,
      "outputs": [
        {
          "output_type": "stream",
          "name": "stdout",
          "text": [
            "+-------------------------------------------+-----+\n",
            "|is_available_in_korea(Country_Availability)|count|\n",
            "+-------------------------------------------+-----+\n",
            "|                                       true| 4845|\n",
            "|                                      false|10616|\n",
            "+-------------------------------------------+-----+\n",
            "\n"
          ]
        }
      ]
    },
    {
      "cell_type": "code",
      "source": [
        "from pyspark.sql.functions import split\n",
        "\n",
        "country = df\\\n",
        ".filter(col('Country_Availability').isNotNull())\\\n",
        ".select('Country_Availability')\\\n",
        ".collect()\n",
        "\n",
        "sum (1 for i in country if 'korea' in i['Country_Availability'].lower())"
      ],
      "metadata": {
        "colab": {
          "base_uri": "https://localhost:8080/"
        },
        "id": "6shFaSmSE1fv",
        "outputId": "807f5ccd-e384-45c1-d086-b48dfdf08e76"
      },
      "execution_count": 181,
      "outputs": [
        {
          "output_type": "execute_result",
          "data": {
            "text/plain": [
              "4845"
            ]
          },
          "metadata": {},
          "execution_count": 181
        }
      ]
    },
    {
      "cell_type": "markdown",
      "metadata": {
        "id": "ly5kebwMkUnM"
      },
      "source": [
        "## Which director has the highest average hidden gem score?"
      ]
    },
    {
      "cell_type": "code",
      "source": [
        "from pyspark.sql.functions import avg"
      ],
      "metadata": {
        "id": "ex_VMD4ssbpa"
      },
      "execution_count": 103,
      "outputs": []
    },
    {
      "cell_type": "code",
      "source": [
        "df.groupby('Director') \\\n",
        ".agg(avg('Hidden_Gem_Score')) \\\n",
        ".filter(col('avg(Hidden_Gem_Score)').isNotNull()) \\\n",
        ".orderBy('avg(Hidden_Gem_Score)',ascending = False) \\\n",
        ".show(1)"
      ],
      "metadata": {
        "colab": {
          "base_uri": "https://localhost:8080/"
        },
        "id": "1KxnNoRjwIhI",
        "outputId": "19b9e0c4-70af-4e0a-cd57-f117c01559b9"
      },
      "execution_count": 104,
      "outputs": [
        {
          "output_type": "stream",
          "name": "stdout",
          "text": [
            "+-----------+---------------------+\n",
            "|   Director|avg(Hidden_Gem_Score)|\n",
            "+-----------+---------------------+\n",
            "|Dorin Marcu|                  9.8|\n",
            "+-----------+---------------------+\n",
            "only showing top 1 row\n",
            "\n"
          ]
        }
      ]
    },
    {
      "cell_type": "markdown",
      "metadata": {
        "id": "nGMb3xT1kUnM"
      },
      "source": [
        "## How many genres are there in the dataset?"
      ]
    },
    {
      "cell_type": "code",
      "execution_count": 105,
      "metadata": {
        "colab": {
          "base_uri": "https://localhost:8080/"
        },
        "id": "OiQq5AQYkUnM",
        "outputId": "0d95e3db-5446-4416-9e9b-f4221b253f27"
      },
      "outputs": [
        {
          "output_type": "stream",
          "name": "stdout",
          "text": [
            "28\n"
          ]
        }
      ],
      "source": [
        "from pyspark.sql.functions import split\n",
        "\n",
        "genres = df \\\n",
        ".filter(col('Genre').isNotNull()) \\\n",
        ".withColumn('Genre', split(col('Genre'), ', ')) \\\n",
        ".select('Genre') \\\n",
        ".distinct() \\\n",
        ".collect()\n",
        "s = set()\n",
        "\n",
        "for i in genres:\n",
        "  if type(i['Genre']) == list:\n",
        "    s = s | (set(i['Genre']))\n",
        "\n",
        "print(len(s))\n"
      ]
    },
    {
      "cell_type": "code",
      "source": [
        "spark.stop()"
      ],
      "metadata": {
        "id": "r5Kz97fK7-zY"
      },
      "execution_count": 118,
      "outputs": []
    }
  ],
  "metadata": {
    "kernelspec": {
      "display_name": "Python 3 (ipykernel)",
      "language": "python",
      "name": "python3"
    },
    "language_info": {
      "codemirror_mode": {
        "name": "ipython",
        "version": 3
      },
      "file_extension": ".py",
      "mimetype": "text/x-python",
      "name": "python",
      "nbconvert_exporter": "python",
      "pygments_lexer": "ipython3",
      "version": "3.9.13"
    },
    "toc": {
      "base_numbering": 1,
      "nav_menu": {},
      "number_sections": true,
      "sideBar": true,
      "skip_h1_title": false,
      "title_cell": "Table of Contents",
      "title_sidebar": "Contents",
      "toc_cell": false,
      "toc_position": {},
      "toc_section_display": true,
      "toc_window_display": false
    },
    "varInspector": {
      "cols": {
        "lenName": 16,
        "lenType": 16,
        "lenVar": 40
      },
      "kernels_config": {
        "python": {
          "delete_cmd_postfix": "",
          "delete_cmd_prefix": "del ",
          "library": "var_list.py",
          "varRefreshCmd": "print(var_dic_list())"
        },
        "r": {
          "delete_cmd_postfix": ") ",
          "delete_cmd_prefix": "rm(",
          "library": "var_list.r",
          "varRefreshCmd": "cat(var_dic_list()) "
        }
      },
      "types_to_exclude": [
        "module",
        "function",
        "builtin_function_or_method",
        "instance",
        "_Feature"
      ],
      "window_display": false
    },
    "colab": {
      "provenance": []
    }
  },
  "nbformat": 4,
  "nbformat_minor": 0
}