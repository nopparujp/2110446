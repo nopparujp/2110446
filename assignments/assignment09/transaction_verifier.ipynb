{
 "cells": [
  {
   "cell_type": "code",
   "execution_count": 1,
   "id": "3d144bf2",
   "metadata": {},
   "outputs": [],
   "source": [
    "# import required libraries\n",
    "from kafka import KafkaConsumer, KafkaProducer\n",
    "import avro.schema\n",
    "import avro.io\n",
    "import io\n",
    "import hashlib, json"
   ]
  },
  {
   "cell_type": "code",
   "execution_count": 2,
   "id": "6234ffde",
   "metadata": {},
   "outputs": [],
   "source": [
    "def serialize(schema, obj):\n",
    "    bytes_writer = io.BytesIO()\n",
    "    encoder = avro.io.BinaryEncoder(bytes_writer)\n",
    "    writer = avro.io.DatumWriter(schema)\n",
    "    writer.write(obj, encoder)\n",
    "    return bytes_writer.getvalue()"
   ]
  },
  {
   "cell_type": "code",
   "execution_count": 3,
   "id": "5e1434bb",
   "metadata": {},
   "outputs": [],
   "source": [
    "def deserialize(schema, raw_bytes):\n",
    "    bytes_reader = io.BytesIO(raw_bytes)\n",
    "    decoder = avro.io.BinaryDecoder(bytes_reader)\n",
    "    reader = avro.io.DatumReader(schema)\n",
    "    return reader.read(decoder)"
   ]
  },
  {
   "cell_type": "code",
   "execution_count": 4,
   "id": "0e92e3e9",
   "metadata": {},
   "outputs": [],
   "source": [
    "schema_file = 'transaction.avsc'\n",
    "txschema = avro.schema.parse(open(schema_file).read())\n",
    "schema_file = 'submit.avsc'\n",
    "submitschema = avro.schema.parse(open(schema_file).read())\n",
    "schema_file = 'result.avsc'\n",
    "resultschema = avro.schema.parse(open(schema_file).read())"
   ]
  },
  {
   "cell_type": "code",
   "execution_count": 5,
   "id": "bcb5dc21",
   "metadata": {},
   "outputs": [],
   "source": [
    "# Connect to kafka broker running in your local host (docker). Change this to your kafka broker if needed\n",
    "kafka_broker = ' lab.aimet.tech:9092'"
   ]
  },
  {
   "cell_type": "code",
   "execution_count": 6,
   "id": "0e05b4b0",
   "metadata": {},
   "outputs": [],
   "source": [
    "producer = KafkaProducer(bootstrap_servers=[kafka_broker])"
   ]
  },
  {
   "cell_type": "code",
   "execution_count": 7,
   "id": "4a2555a3",
   "metadata": {},
   "outputs": [],
   "source": [
    "txconsumer = KafkaConsumer(\n",
    "    'transaction',\n",
    "     bootstrap_servers=[kafka_broker],\n",
    "     enable_auto_commit=True,\n",
    "     value_deserializer=lambda x: deserialize(txschema, x))\n",
    "resultconsumer = KafkaConsumer(\n",
    "    'result',\n",
    "     bootstrap_servers=[kafka_broker],\n",
    "     enable_auto_commit=True,\n",
    "     value_deserializer=lambda x: deserialize(resultschema, x))"
   ]
  },
  {
   "cell_type": "code",
   "execution_count": 8,
   "id": "fe697a88",
   "metadata": {},
   "outputs": [],
   "source": [
    "def gen_signature(txid, payer, payee, amount, token):\n",
    "    o = {'txid': txid, 'payer': payer, 'payee': payee, 'amount': amount, 'token': token}\n",
    "    return hashlib.md5(json.dumps(o, sort_keys=True).encode('utf-8')).hexdigest()"
   ]
  },
  {
   "cell_type": "code",
   "execution_count": 9,
   "id": "f07b6d47",
   "metadata": {},
   "outputs": [
    {
     "name": "stdout",
     "output_type": "stream",
     "text": [
      "txid:  TX09568\n",
      "---\n",
      "Verified\n",
      "timestamp:  1711324114\n",
      "vid:        V763258\n",
      "txid:       TX09568\n",
      "checksum:   a7f98af9a8724eca17d1fbfbb44efff8\n",
      "code:       200\n"
     ]
    }
   ],
   "source": [
    "vid = 'V763258'\n",
    "token = '144c0db0459d005a4beef900f0c0c531'\n",
    "tx_data = next(txconsumer).value\n",
    "txid, payer, payee, amount = tx_data['txid'], tx_data['payer'], tx_data['payee'], tx_data['amount']\n",
    "\n",
    "signature = gen_signature(txid, payer, payee, amount, token)\n",
    "print('txid: ', txid)\n",
    "print('---')\n",
    "\n",
    "verification_message = {\n",
    "    'vid': vid,\n",
    "    'txid': txid,\n",
    "    'signature': signature\n",
    "}\n",
    "\n",
    "serialized_message = serialize(submitschema, verification_message)\n",
    "producer.send('submit', serialized_message)\n",
    "\n",
    "result = next(resultconsumer)\n",
    "if result.value['code'] == 200 and result.value['vid'] == vid and result.value['txid'] == txid:\n",
    "    print('Verified')\n",
    "\n",
    "print(f'{\"timestamp:\":12}{result.value[\"timestamp\"]}')\n",
    "print(f'{\"vid:\":12}{result.value[\"vid\"]}')\n",
    "print(f'{\"txid:\":12}{result.value[\"txid\"]}')\n",
    "print(f'{\"checksum:\":12}{result.value[\"checksum\"]}')\n",
    "print(f'{\"code:\":12}{result.value[\"code\"]}')"
   ]
  }
 ],
 "metadata": {
  "kernelspec": {
   "display_name": "Python 3 (ipykernel)",
   "language": "python",
   "name": "python3"
  },
  "language_info": {
   "codemirror_mode": {
    "name": "ipython",
    "version": 3
   },
   "file_extension": ".py",
   "mimetype": "text/x-python",
   "name": "python",
   "nbconvert_exporter": "python",
   "pygments_lexer": "ipython3",
   "version": "3.11.8"
  }
 },
 "nbformat": 4,
 "nbformat_minor": 5
}
